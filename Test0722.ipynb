{
  "nbformat": 4,
  "nbformat_minor": 0,
  "metadata": {
    "colab": {
      "provenance": [],
      "toc_visible": true,
      "mount_file_id": "1pfeWDwI2BM96wX-rWpPD3yVvGoVVCTTn",
      "authorship_tag": "ABX9TyMb9FvBn9YE3OLqgLeT++4F",
      "include_colab_link": true
    },
    "kernelspec": {
      "name": "python3",
      "display_name": "Python 3"
    },
    "language_info": {
      "name": "python"
    }
  },
  "cells": [
    {
      "cell_type": "markdown",
      "metadata": {
        "id": "view-in-github",
        "colab_type": "text"
      },
      "source": [
        "<a href=\"https://colab.research.google.com/github/Albertoicix/AndroidProjects/blob/main/Test0722.ipynb\" target=\"_parent\"><img src=\"https://colab.research.google.com/assets/colab-badge.svg\" alt=\"Open In Colab\"/></a>"
      ]
    },
    {
      "cell_type": "code",
      "execution_count": null,
      "metadata": {
        "colab": {
          "base_uri": "https://localhost:8080/"
        },
        "id": "XIQ1OHCNzX2X",
        "outputId": "62c4b735-af02-48cc-932f-b9b039dd74e4"
      },
      "outputs": [
        {
          "output_type": "stream",
          "name": "stdout",
          "text": [
            "안녕?\n"
          ]
        }
      ],
      "source": [
        "print(\"안녕?\")"
      ]
    },
    {
      "cell_type": "markdown",
      "source": [
        "#제목1\n",
        "##제목2\n",
        "###제목3\n",
        "내용입니다.\n",
        "수정이 필요하였습니다\n",
        "수정 했습니다\n"
      ],
      "metadata": {
        "id": "baJ8Cs0q0qKN"
      }
    },
    {
      "cell_type": "code",
      "source": [],
      "metadata": {
        "id": "4gXDp7ha1EfV"
      },
      "execution_count": null,
      "outputs": []
    }
  ]
}